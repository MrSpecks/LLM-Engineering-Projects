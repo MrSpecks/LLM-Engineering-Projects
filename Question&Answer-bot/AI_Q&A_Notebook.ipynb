{
 "cells": [
  {
   "cell_type": "code",
   "execution_count": null,
   "id": "c4c42725-4423-4939-8d3e-7e93382a167c",
   "metadata": {},
   "outputs": [],
   "source": [
    "# imports\n",
    "\n",
    "import os\n",
    "import requests\n",
    "import json\n",
    "from typing import List\n",
    "from dotenv import load_dotenv\n",
    "from bs4 import BeautifulSoup\n",
    "from IPython.display import Markdown, display, update_display\n",
    "from openai import OpenAI"
   ]
  },
  {
   "cell_type": "code",
   "execution_count": null,
   "id": "fc7cafbe-c41e-46b2-8f18-9cf185e2a738",
   "metadata": {},
   "outputs": [],
   "source": [
    "# constants\n",
    "\n",
    "load_dotenv(override=True)\n",
    "api_key = os.getenv('OPENAI_API_KEY')\n",
    "\n",
    "if api_key and api_key.startswith('sk-proj-') and len(api_key)>10:\n",
    "    print(\"API key looks good so far\")\n",
    "else:\n",
    "    print(\"There might be a problem with your API key? Please visit the troubleshooting notebook!\")\n",
    "\n",
    "MODEL_GPT = 'gpt-4o-mini'\n",
    "openai = OpenAI()"
   ]
  },
  {
   "cell_type": "code",
   "execution_count": null,
   "id": "4899fd04-70b6-473a-a044-9828b95bbbe1",
   "metadata": {},
   "outputs": [],
   "source": [
    "# set up environment\n",
    "def ask_question(question: str, model=MODEL_GPT) -> str:\n",
    "    \"\"\"\n",
    "    Please explain what this code does and why: \\\n",
    "    yield from {book.get(\"author\") for book in books if book.get(\"author\")}\n",
    "    \"\"\""
   ]
  },
  {
   "cell_type": "code",
   "execution_count": null,
   "id": "7b8bf740-b809-4344-81bd-91eb82f74690",
   "metadata": {},
   "outputs": [],
   "source": [
    "print(\"📩 Sending question to model...\")"
   ]
  },
  {
   "cell_type": "code",
   "execution_count": null,
   "id": "a30cc779-26f1-4b2c-b008-a785c2e2a64e",
   "metadata": {},
   "outputs": [],
   "source": [
    "    # Create a streaming response\n",
    "def stream_answer(question: str, model=MODEL_GPT):\n",
    "    stream = openai.chat.completions.create(\n",
    "        model=MODEL_GPT,\n",
    "        messages=[\n",
    "            {\"role\": \"system\", \"content\": \"You are a helpful technical assistant who explains step by step.\"},\n",
    "            {\"role\": \"user\", \"content\": question}\n",
    "        ],\n",
    "        stream=True\n",
    "    )\n",
    "    \n",
    "    response_text = \"\"\n",
    "    display_handle = display(Markdown(\"\"), display_id=True)\n",
    "\n",
    "    for chunk in stream:\n",
    "        delta = chunk.choices[0].delta.content\n",
    "        if delta:\n",
    "            response_text += delta\n",
    "            # clean up backticks/markdown fencing if desired\n",
    "            cleaned = response_text.replace(\"```\", \"\").replace(\"markdown\", \"\")\n",
    "            update_display(Markdown(cleaned), display_id=display_handle.display_id)\n",
    "    return response_text"
   ]
  },
  {
   "cell_type": "code",
   "execution_count": null,
   "id": "0236aa73-431b-4b7d-aa5b-f1f9a31cb2c3",
   "metadata": {},
   "outputs": [],
   "source": [
    "# here is the question; type over this to ask something new\n",
    "\n",
    "question = \"\"\" Please explain what this code does and why: \\\n",
    "yield from {book.get(\"author\") for book in books if book.get(\"author\")}\n",
    "\"\"\""
   ]
  },
  {
   "cell_type": "code",
   "execution_count": null,
   "id": "bccce770-9df4-432a-bb2c-9533f197d4e8",
   "metadata": {},
   "outputs": [],
   "source": [
    "# Get gpt-4o-mini to answer, with streaming\n",
    "answer = stream_answer(question)"
   ]
  }
 ],
 "metadata": {
  "kernelspec": {
   "display_name": "Python 3 (ipykernel)",
   "language": "python",
   "name": "python3"
  },
  "language_info": {
   "codemirror_mode": {
    "name": "ipython",
    "version": 3
   },
   "file_extension": ".py",
   "mimetype": "text/x-python",
   "name": "python",
   "nbconvert_exporter": "python",
   "pygments_lexer": "ipython3",
   "version": "3.11.9"
  }
 },
 "nbformat": 4,
 "nbformat_minor": 5
}
